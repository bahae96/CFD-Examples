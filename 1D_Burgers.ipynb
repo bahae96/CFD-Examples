{
 "cells": [
  {
   "cell_type": "markdown",
   "metadata": {},
   "source": [
    "# The Diffusion-convection problem: The Buegers equation"
   ]
  },
  {
   "cell_type": "markdown",
   "metadata": {},
   "source": [
    "## Questions imposed by the problem\n",
    "- What is the profile for 1D convection-diffusion when the initial conditions are a saw tooth wave and the boundary conditions are periodic ?\n",
    "- How does this compare with the analytical solution ?\n",
    "- The 1D convection-diffusion is described as follows:\n",
    "\n",
    "\\begin{equation}\n",
    "\\frac{\\partial u}{\\partial t} + u \\frac{\\partial u}{\\partial x} = \\nu\\frac{\\partial^2 u}{\\partial x^2}\n",
    "\\end{equation}\n",
    "\n",
    "## Formulate the problem\n",
    "\n",
    "### Input Data\n",
    "\n",
    "- nt = 51 (number of temporal points)\n",
    "\n",
    "- nx = 21 (number of spatial points)\n",
    "\n",
    "- tmax = 0.5\n",
    "\n",
    "- xmax = 2$\\pi$\n",
    "\n",
    "- $\\nu$ = 0.1"
   ]
  },
  {
   "cell_type": "code",
   "execution_count": null,
   "metadata": {},
   "outputs": [],
   "source": []
  }
 ],
 "metadata": {
  "kernelspec": {
   "display_name": "Python 3",
   "language": "python",
   "name": "python3"
  },
  "language_info": {
   "codemirror_mode": {
    "name": "ipython",
    "version": 3
   },
   "file_extension": ".py",
   "mimetype": "text/x-python",
   "name": "python",
   "nbconvert_exporter": "python",
   "pygments_lexer": "ipython3",
   "version": "3.7.3"
  }
 },
 "nbformat": 4,
 "nbformat_minor": 2
}
